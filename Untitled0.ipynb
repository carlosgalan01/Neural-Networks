{
  "nbformat": 4,
  "nbformat_minor": 0,
  "metadata": {
    "colab": {
      "provenance": [],
      "authorship_tag": "ABX9TyMO2o/M2LG6p/3I6hhJUSYn",
      "include_colab_link": true
    },
    "kernelspec": {
      "name": "python3",
      "display_name": "Python 3"
    },
    "language_info": {
      "name": "python"
    },
    "widgets": {
      "application/vnd.jupyter.widget-state+json": {
        "c50cff7b1701448eb3a5cf837e17c931": {
          "model_module": "@jupyter-widgets/controls",
          "model_name": "HBoxModel",
          "model_module_version": "1.5.0",
          "state": {
            "_dom_classes": [],
            "_model_module": "@jupyter-widgets/controls",
            "_model_module_version": "1.5.0",
            "_model_name": "HBoxModel",
            "_view_count": null,
            "_view_module": "@jupyter-widgets/controls",
            "_view_module_version": "1.5.0",
            "_view_name": "HBoxView",
            "box_style": "",
            "children": [
              "IPY_MODEL_ed2d82870cf349b09bb8f523d9f1c088",
              "IPY_MODEL_df8ae0c5149b4d3e8aec9bf751651423"
            ],
            "layout": "IPY_MODEL_37e90b1eee62483b83e655c956507568"
          }
        },
        "ed2d82870cf349b09bb8f523d9f1c088": {
          "model_module": "@jupyter-widgets/controls",
          "model_name": "VBoxModel",
          "model_module_version": "1.5.0",
          "state": {
            "_dom_classes": [],
            "_model_module": "@jupyter-widgets/controls",
            "_model_module_version": "1.5.0",
            "_model_name": "VBoxModel",
            "_view_count": null,
            "_view_module": "@jupyter-widgets/controls",
            "_view_module_version": "1.5.0",
            "_view_name": "VBoxView",
            "box_style": "",
            "children": [
              "IPY_MODEL_5176110c76024bd4806261186346637c",
              "IPY_MODEL_95680b096adf457e9d70a05c3fd5ff37",
              "IPY_MODEL_b87d8138587a4e8f95ce88ba821104aa",
              "IPY_MODEL_ee4ca5dbae95409d943833fcd950accb"
            ],
            "layout": "IPY_MODEL_0e302419eb814c18a67ee732dfeefaa4"
          }
        },
        "df8ae0c5149b4d3e8aec9bf751651423": {
          "model_module": "@jupyter-widgets/controls",
          "model_name": "VBoxModel",
          "model_module_version": "1.5.0",
          "state": {
            "_dom_classes": [],
            "_model_module": "@jupyter-widgets/controls",
            "_model_module_version": "1.5.0",
            "_model_name": "VBoxModel",
            "_view_count": null,
            "_view_module": "@jupyter-widgets/controls",
            "_view_module_version": "1.5.0",
            "_view_name": "VBoxView",
            "box_style": "",
            "children": [
              "IPY_MODEL_200a1ad8e47a48bd88d6949e43b54366",
              "IPY_MODEL_79075e54df1244c6a31a3f6f5833971c",
              "IPY_MODEL_054525ebea9248ccaba1c30216d7601a",
              "IPY_MODEL_d79aca16e2ef453c95ab6ddf975d82a7"
            ],
            "layout": "IPY_MODEL_3adf3a9665744b9c808f313fc49ccb69"
          }
        },
        "37e90b1eee62483b83e655c956507568": {
          "model_module": "@jupyter-widgets/base",
          "model_name": "LayoutModel",
          "model_module_version": "1.2.0",
          "state": {
            "_model_module": "@jupyter-widgets/base",
            "_model_module_version": "1.2.0",
            "_model_name": "LayoutModel",
            "_view_count": null,
            "_view_module": "@jupyter-widgets/base",
            "_view_module_version": "1.2.0",
            "_view_name": "LayoutView",
            "align_content": null,
            "align_items": null,
            "align_self": null,
            "border": null,
            "bottom": null,
            "display": null,
            "flex": null,
            "flex_flow": null,
            "grid_area": null,
            "grid_auto_columns": null,
            "grid_auto_flow": null,
            "grid_auto_rows": null,
            "grid_column": null,
            "grid_gap": null,
            "grid_row": null,
            "grid_template_areas": null,
            "grid_template_columns": null,
            "grid_template_rows": null,
            "height": null,
            "justify_content": "space-between",
            "justify_items": null,
            "left": null,
            "margin": null,
            "max_height": null,
            "max_width": null,
            "min_height": null,
            "min_width": null,
            "object_fit": null,
            "object_position": null,
            "order": null,
            "overflow": null,
            "overflow_x": null,
            "overflow_y": null,
            "padding": null,
            "right": null,
            "top": null,
            "visibility": null,
            "width": null
          }
        },
        "5176110c76024bd4806261186346637c": {
          "model_module": "@jupyter-widgets/controls",
          "model_name": "FloatSliderModel",
          "model_module_version": "1.5.0",
          "state": {
            "_dom_classes": [],
            "_model_module": "@jupyter-widgets/controls",
            "_model_module_version": "1.5.0",
            "_model_name": "FloatSliderModel",
            "_view_count": null,
            "_view_module": "@jupyter-widgets/controls",
            "_view_module_version": "1.5.0",
            "_view_name": "FloatSliderView",
            "continuous_update": true,
            "description": "β0",
            "description_tooltip": null,
            "disabled": false,
            "layout": "IPY_MODEL_cb5aefc576e64f298b0d01319c397eb9",
            "max": 6,
            "min": -6,
            "orientation": "horizontal",
            "readout": true,
            "readout_format": ".2f",
            "step": 0.01,
            "style": "IPY_MODEL_04d01479d0f04a4d8b6ed9748b9f2b85",
            "value": 0.7000000000000002
          }
        },
        "95680b096adf457e9d70a05c3fd5ff37": {
          "model_module": "@jupyter-widgets/controls",
          "model_name": "FloatSliderModel",
          "model_module_version": "1.5.0",
          "state": {
            "_dom_classes": [],
            "_model_module": "@jupyter-widgets/controls",
            "_model_module_version": "1.5.0",
            "_model_name": "FloatSliderModel",
            "_view_count": null,
            "_view_module": "@jupyter-widgets/controls",
            "_view_module_version": "1.5.0",
            "_view_name": "FloatSliderView",
            "continuous_update": true,
            "description": "β1",
            "description_tooltip": null,
            "disabled": false,
            "layout": "IPY_MODEL_cb5aefc576e64f298b0d01319c397eb9",
            "max": 3,
            "min": -3,
            "orientation": "horizontal",
            "readout": true,
            "readout_format": ".2f",
            "step": 0.01,
            "style": "IPY_MODEL_98fac134691045429ba1ef1f384a867d",
            "value": 0.20000000000000018
          }
        },
        "b87d8138587a4e8f95ce88ba821104aa": {
          "model_module": "@jupyter-widgets/controls",
          "model_name": "FloatSliderModel",
          "model_module_version": "1.5.0",
          "state": {
            "_dom_classes": [],
            "_model_module": "@jupyter-widgets/controls",
            "_model_module_version": "1.5.0",
            "_model_name": "FloatSliderModel",
            "_view_count": null,
            "_view_module": "@jupyter-widgets/controls",
            "_view_module_version": "1.5.0",
            "_view_name": "FloatSliderView",
            "continuous_update": true,
            "description": "β2",
            "description_tooltip": null,
            "disabled": false,
            "layout": "IPY_MODEL_cb5aefc576e64f298b0d01319c397eb9",
            "max": 6,
            "min": -6,
            "orientation": "horizontal",
            "readout": true,
            "readout_format": ".2f",
            "step": 0.01,
            "style": "IPY_MODEL_515f698c0d8f42d28469c01bcfcac175",
            "value": 0.7000000000000002
          }
        },
        "ee4ca5dbae95409d943833fcd950accb": {
          "model_module": "@jupyter-widgets/controls",
          "model_name": "FloatSliderModel",
          "model_module_version": "1.5.0",
          "state": {
            "_dom_classes": [],
            "_model_module": "@jupyter-widgets/controls",
            "_model_module_version": "1.5.0",
            "_model_name": "FloatSliderModel",
            "_view_count": null,
            "_view_module": "@jupyter-widgets/controls",
            "_view_module_version": "1.5.0",
            "_view_name": "FloatSliderView",
            "continuous_update": true,
            "description": "β3",
            "description_tooltip": null,
            "disabled": false,
            "layout": "IPY_MODEL_cb5aefc576e64f298b0d01319c397eb9",
            "max": 5,
            "min": -5,
            "orientation": "horizontal",
            "readout": true,
            "readout_format": ".2f",
            "step": 0.01,
            "style": "IPY_MODEL_b6de6cb483d547fd939fa553e90548d3",
            "value": 1
          }
        },
        "0e302419eb814c18a67ee732dfeefaa4": {
          "model_module": "@jupyter-widgets/base",
          "model_name": "LayoutModel",
          "model_module_version": "1.2.0",
          "state": {
            "_model_module": "@jupyter-widgets/base",
            "_model_module_version": "1.2.0",
            "_model_name": "LayoutModel",
            "_view_count": null,
            "_view_module": "@jupyter-widgets/base",
            "_view_module_version": "1.2.0",
            "_view_name": "LayoutView",
            "align_content": null,
            "align_items": null,
            "align_self": null,
            "border": null,
            "bottom": null,
            "display": null,
            "flex": null,
            "flex_flow": null,
            "grid_area": null,
            "grid_auto_columns": null,
            "grid_auto_flow": null,
            "grid_auto_rows": null,
            "grid_column": null,
            "grid_gap": null,
            "grid_row": null,
            "grid_template_areas": null,
            "grid_template_columns": null,
            "grid_template_rows": null,
            "height": null,
            "justify_content": null,
            "justify_items": null,
            "left": null,
            "margin": null,
            "max_height": null,
            "max_width": null,
            "min_height": null,
            "min_width": null,
            "object_fit": null,
            "object_position": null,
            "order": null,
            "overflow": null,
            "overflow_x": null,
            "overflow_y": null,
            "padding": null,
            "right": null,
            "top": null,
            "visibility": null,
            "width": null
          }
        },
        "200a1ad8e47a48bd88d6949e43b54366": {
          "model_module": "@jupyter-widgets/controls",
          "model_name": "FloatSliderModel",
          "model_module_version": "1.5.0",
          "state": {
            "_dom_classes": [],
            "_model_module": "@jupyter-widgets/controls",
            "_model_module_version": "1.5.0",
            "_model_name": "FloatSliderModel",
            "_view_count": null,
            "_view_module": "@jupyter-widgets/controls",
            "_view_module_version": "1.5.0",
            "_view_name": "FloatSliderView",
            "continuous_update": true,
            "description": "ω0",
            "description_tooltip": null,
            "disabled": false,
            "layout": "IPY_MODEL_cb5aefc576e64f298b0d01319c397eb9",
            "max": 4,
            "min": -4,
            "orientation": "horizontal",
            "readout": true,
            "readout_format": ".2f",
            "step": 0.01,
            "style": "IPY_MODEL_9e6da689290642d4a3752b946b607303",
            "value": 1
          }
        },
        "79075e54df1244c6a31a3f6f5833971c": {
          "model_module": "@jupyter-widgets/controls",
          "model_name": "FloatSliderModel",
          "model_module_version": "1.5.0",
          "state": {
            "_dom_classes": [],
            "_model_module": "@jupyter-widgets/controls",
            "_model_module_version": "1.5.0",
            "_model_name": "FloatSliderModel",
            "_view_count": null,
            "_view_module": "@jupyter-widgets/controls",
            "_view_module_version": "1.5.0",
            "_view_name": "FloatSliderView",
            "continuous_update": true,
            "description": "ω1",
            "description_tooltip": null,
            "disabled": false,
            "layout": "IPY_MODEL_cb5aefc576e64f298b0d01319c397eb9",
            "max": 5,
            "min": -5,
            "orientation": "horizontal",
            "readout": true,
            "readout_format": ".2f",
            "step": 0.01,
            "style": "IPY_MODEL_2101906141dd4b2696cd0510977a3f3e",
            "value": 0.5
          }
        },
        "054525ebea9248ccaba1c30216d7601a": {
          "model_module": "@jupyter-widgets/controls",
          "model_name": "FloatSliderModel",
          "model_module_version": "1.5.0",
          "state": {
            "_dom_classes": [],
            "_model_module": "@jupyter-widgets/controls",
            "_model_module_version": "1.5.0",
            "_model_name": "FloatSliderModel",
            "_view_count": null,
            "_view_module": "@jupyter-widgets/controls",
            "_view_module_version": "1.5.0",
            "_view_name": "FloatSliderView",
            "continuous_update": true,
            "description": "ω2",
            "description_tooltip": null,
            "disabled": false,
            "layout": "IPY_MODEL_cb5aefc576e64f298b0d01319c397eb9",
            "max": 2,
            "min": -2,
            "orientation": "horizontal",
            "readout": true,
            "readout_format": ".2f",
            "step": 0.01,
            "style": "IPY_MODEL_f2dba8f189624e37aeaf4468da87df1c",
            "value": 0.2999999999999998
          }
        },
        "d79aca16e2ef453c95ab6ddf975d82a7": {
          "model_module": "@jupyter-widgets/controls",
          "model_name": "FloatSliderModel",
          "model_module_version": "1.5.0",
          "state": {
            "_dom_classes": [],
            "_model_module": "@jupyter-widgets/controls",
            "_model_module_version": "1.5.0",
            "_model_name": "FloatSliderModel",
            "_view_count": null,
            "_view_module": "@jupyter-widgets/controls",
            "_view_module_version": "1.5.0",
            "_view_name": "FloatSliderView",
            "continuous_update": true,
            "description": "ω3",
            "description_tooltip": null,
            "disabled": false,
            "layout": "IPY_MODEL_cb5aefc576e64f298b0d01319c397eb9",
            "max": 2,
            "min": -2,
            "orientation": "horizontal",
            "readout": true,
            "readout_format": ".2f",
            "step": 0.01,
            "style": "IPY_MODEL_155df62839a0434fb473ad7cdeb0ed25",
            "value": 0.7999999999999998
          }
        },
        "3adf3a9665744b9c808f313fc49ccb69": {
          "model_module": "@jupyter-widgets/base",
          "model_name": "LayoutModel",
          "model_module_version": "1.2.0",
          "state": {
            "_model_module": "@jupyter-widgets/base",
            "_model_module_version": "1.2.0",
            "_model_name": "LayoutModel",
            "_view_count": null,
            "_view_module": "@jupyter-widgets/base",
            "_view_module_version": "1.2.0",
            "_view_name": "LayoutView",
            "align_content": null,
            "align_items": null,
            "align_self": null,
            "border": null,
            "bottom": null,
            "display": null,
            "flex": null,
            "flex_flow": null,
            "grid_area": null,
            "grid_auto_columns": null,
            "grid_auto_flow": null,
            "grid_auto_rows": null,
            "grid_column": null,
            "grid_gap": null,
            "grid_row": null,
            "grid_template_areas": null,
            "grid_template_columns": null,
            "grid_template_rows": null,
            "height": null,
            "justify_content": null,
            "justify_items": null,
            "left": null,
            "margin": null,
            "max_height": null,
            "max_width": null,
            "min_height": null,
            "min_width": null,
            "object_fit": null,
            "object_position": null,
            "order": null,
            "overflow": null,
            "overflow_x": null,
            "overflow_y": null,
            "padding": null,
            "right": null,
            "top": null,
            "visibility": null,
            "width": null
          }
        },
        "cb5aefc576e64f298b0d01319c397eb9": {
          "model_module": "@jupyter-widgets/base",
          "model_name": "LayoutModel",
          "model_module_version": "1.2.0",
          "state": {
            "_model_module": "@jupyter-widgets/base",
            "_model_module_version": "1.2.0",
            "_model_name": "LayoutModel",
            "_view_count": null,
            "_view_module": "@jupyter-widgets/base",
            "_view_module_version": "1.2.0",
            "_view_name": "LayoutView",
            "align_content": null,
            "align_items": null,
            "align_self": null,
            "border": null,
            "bottom": null,
            "display": null,
            "flex": null,
            "flex_flow": null,
            "grid_area": null,
            "grid_auto_columns": null,
            "grid_auto_flow": null,
            "grid_auto_rows": null,
            "grid_column": null,
            "grid_gap": null,
            "grid_row": null,
            "grid_template_areas": null,
            "grid_template_columns": null,
            "grid_template_rows": null,
            "height": null,
            "justify_content": null,
            "justify_items": null,
            "left": null,
            "margin": null,
            "max_height": null,
            "max_width": null,
            "min_height": null,
            "min_width": null,
            "object_fit": null,
            "object_position": null,
            "order": null,
            "overflow": null,
            "overflow_x": null,
            "overflow_y": null,
            "padding": null,
            "right": null,
            "top": null,
            "visibility": null,
            "width": "320px"
          }
        },
        "04d01479d0f04a4d8b6ed9748b9f2b85": {
          "model_module": "@jupyter-widgets/controls",
          "model_name": "SliderStyleModel",
          "model_module_version": "1.5.0",
          "state": {
            "_model_module": "@jupyter-widgets/controls",
            "_model_module_version": "1.5.0",
            "_model_name": "SliderStyleModel",
            "_view_count": null,
            "_view_module": "@jupyter-widgets/base",
            "_view_module_version": "1.2.0",
            "_view_name": "StyleView",
            "description_width": "40px",
            "handle_color": null
          }
        },
        "98fac134691045429ba1ef1f384a867d": {
          "model_module": "@jupyter-widgets/controls",
          "model_name": "SliderStyleModel",
          "model_module_version": "1.5.0",
          "state": {
            "_model_module": "@jupyter-widgets/controls",
            "_model_module_version": "1.5.0",
            "_model_name": "SliderStyleModel",
            "_view_count": null,
            "_view_module": "@jupyter-widgets/base",
            "_view_module_version": "1.2.0",
            "_view_name": "StyleView",
            "description_width": "40px",
            "handle_color": null
          }
        },
        "515f698c0d8f42d28469c01bcfcac175": {
          "model_module": "@jupyter-widgets/controls",
          "model_name": "SliderStyleModel",
          "model_module_version": "1.5.0",
          "state": {
            "_model_module": "@jupyter-widgets/controls",
            "_model_module_version": "1.5.0",
            "_model_name": "SliderStyleModel",
            "_view_count": null,
            "_view_module": "@jupyter-widgets/base",
            "_view_module_version": "1.2.0",
            "_view_name": "StyleView",
            "description_width": "40px",
            "handle_color": null
          }
        },
        "b6de6cb483d547fd939fa553e90548d3": {
          "model_module": "@jupyter-widgets/controls",
          "model_name": "SliderStyleModel",
          "model_module_version": "1.5.0",
          "state": {
            "_model_module": "@jupyter-widgets/controls",
            "_model_module_version": "1.5.0",
            "_model_name": "SliderStyleModel",
            "_view_count": null,
            "_view_module": "@jupyter-widgets/base",
            "_view_module_version": "1.2.0",
            "_view_name": "StyleView",
            "description_width": "40px",
            "handle_color": null
          }
        },
        "9e6da689290642d4a3752b946b607303": {
          "model_module": "@jupyter-widgets/controls",
          "model_name": "SliderStyleModel",
          "model_module_version": "1.5.0",
          "state": {
            "_model_module": "@jupyter-widgets/controls",
            "_model_module_version": "1.5.0",
            "_model_name": "SliderStyleModel",
            "_view_count": null,
            "_view_module": "@jupyter-widgets/base",
            "_view_module_version": "1.2.0",
            "_view_name": "StyleView",
            "description_width": "40px",
            "handle_color": null
          }
        },
        "2101906141dd4b2696cd0510977a3f3e": {
          "model_module": "@jupyter-widgets/controls",
          "model_name": "SliderStyleModel",
          "model_module_version": "1.5.0",
          "state": {
            "_model_module": "@jupyter-widgets/controls",
            "_model_module_version": "1.5.0",
            "_model_name": "SliderStyleModel",
            "_view_count": null,
            "_view_module": "@jupyter-widgets/base",
            "_view_module_version": "1.2.0",
            "_view_name": "StyleView",
            "description_width": "40px",
            "handle_color": null
          }
        },
        "f2dba8f189624e37aeaf4468da87df1c": {
          "model_module": "@jupyter-widgets/controls",
          "model_name": "SliderStyleModel",
          "model_module_version": "1.5.0",
          "state": {
            "_model_module": "@jupyter-widgets/controls",
            "_model_module_version": "1.5.0",
            "_model_name": "SliderStyleModel",
            "_view_count": null,
            "_view_module": "@jupyter-widgets/base",
            "_view_module_version": "1.2.0",
            "_view_name": "StyleView",
            "description_width": "40px",
            "handle_color": null
          }
        },
        "155df62839a0434fb473ad7cdeb0ed25": {
          "model_module": "@jupyter-widgets/controls",
          "model_name": "SliderStyleModel",
          "model_module_version": "1.5.0",
          "state": {
            "_model_module": "@jupyter-widgets/controls",
            "_model_module_version": "1.5.0",
            "_model_name": "SliderStyleModel",
            "_view_count": null,
            "_view_module": "@jupyter-widgets/base",
            "_view_module_version": "1.2.0",
            "_view_name": "StyleView",
            "description_width": "40px",
            "handle_color": null
          }
        },
        "ac551972eb8942a6bc1a0233508f61ea": {
          "model_module": "@jupyter-widgets/output",
          "model_name": "OutputModel",
          "model_module_version": "1.0.0",
          "state": {
            "_dom_classes": [],
            "_model_module": "@jupyter-widgets/output",
            "_model_module_version": "1.0.0",
            "_model_name": "OutputModel",
            "_view_count": null,
            "_view_module": "@jupyter-widgets/output",
            "_view_module_version": "1.0.0",
            "_view_name": "OutputView",
            "layout": "IPY_MODEL_2b30a7c3373f4af691104b9552d56e12",
            "msg_id": "",
            "outputs": []
          }
        },
        "2b30a7c3373f4af691104b9552d56e12": {
          "model_module": "@jupyter-widgets/base",
          "model_name": "LayoutModel",
          "model_module_version": "1.2.0",
          "state": {
            "_model_module": "@jupyter-widgets/base",
            "_model_module_version": "1.2.0",
            "_model_name": "LayoutModel",
            "_view_count": null,
            "_view_module": "@jupyter-widgets/base",
            "_view_module_version": "1.2.0",
            "_view_name": "LayoutView",
            "align_content": null,
            "align_items": null,
            "align_self": null,
            "border": null,
            "bottom": null,
            "display": null,
            "flex": null,
            "flex_flow": null,
            "grid_area": null,
            "grid_auto_columns": null,
            "grid_auto_flow": null,
            "grid_auto_rows": null,
            "grid_column": null,
            "grid_gap": null,
            "grid_row": null,
            "grid_template_areas": null,
            "grid_template_columns": null,
            "grid_template_rows": null,
            "height": null,
            "justify_content": null,
            "justify_items": null,
            "left": null,
            "margin": null,
            "max_height": null,
            "max_width": null,
            "min_height": null,
            "min_width": null,
            "object_fit": null,
            "object_position": null,
            "order": null,
            "overflow": null,
            "overflow_x": null,
            "overflow_y": null,
            "padding": null,
            "right": null,
            "top": null,
            "visibility": null,
            "width": null
          }
        }
      }
    }
  },
  "cells": [
    {
      "cell_type": "markdown",
      "metadata": {
        "id": "view-in-github",
        "colab_type": "text"
      },
      "source": [
        "<a href=\"https://colab.research.google.com/github/carlosgalan01/Neural-Networks/blob/main/Untitled0.ipynb\" target=\"_parent\"><img src=\"https://colab.research.google.com/assets/colab-badge.svg\" alt=\"Open In Colab\"/></a>"
      ]
    },
    {
      "cell_type": "code",
      "source": [
        "!pip -q install ipywidgets\n",
        "from google.colab import output\n",
        "output.enable_custom_widget_manager()"
      ],
      "metadata": {
        "colab": {
          "base_uri": "https://localhost:8080/"
        },
        "id": "UFQhdtHUNLIV",
        "outputId": "572aec48-8434-4c11-b940-8bb875033349"
      },
      "execution_count": null,
      "outputs": [
        {
          "output_type": "stream",
          "name": "stdout",
          "text": [
            "\u001b[?25l   \u001b[90m━━━━━━━━━━━━━━━━━━━━━━━━━━━━━━━━━━━━━━━━\u001b[0m \u001b[32m0.0/1.6 MB\u001b[0m \u001b[31m?\u001b[0m eta \u001b[36m-:--:--\u001b[0m\r\u001b[2K   \u001b[91m━━━━━━━━━━━━━\u001b[0m\u001b[90m╺\u001b[0m\u001b[90m━━━━━━━━━━━━━━━━━━━━━━━━━━\u001b[0m \u001b[32m0.5/1.6 MB\u001b[0m \u001b[31m16.7 MB/s\u001b[0m eta \u001b[36m0:00:01\u001b[0m\r\u001b[2K   \u001b[90m━━━━━━━━━━━━━━━━━━━━━━━━━━━━━━━━━━━━━━━━\u001b[0m \u001b[32m1.6/1.6 MB\u001b[0m \u001b[31m23.5 MB/s\u001b[0m eta \u001b[36m0:00:00\u001b[0m\n",
            "\u001b[?25h"
          ]
        }
      ]
    },
    {
      "cell_type": "code",
      "source": [
        "import numpy as np\n",
        "import matplotlib.pyplot as plt\n",
        "import ipywidgets as widgets\n",
        "from ipywidgets import HBox, VBox, Layout, FloatSlider, Label, interactive_output"
      ],
      "metadata": {
        "id": "AQUT91MUNOT_"
      },
      "execution_count": null,
      "outputs": []
    },
    {
      "cell_type": "code",
      "source": [
        "# ⬇️ 2) Definición de la función y del rango de x\n",
        "def f(x, b0, b1, b2, b3, w0, w1, w2, w3):\n",
        "    return (b3\n",
        "            + w3 * (np.cos(b2)\n",
        "            + w2 * (np.exp(b1)\n",
        "            + w1 * (np.sin(b0 + w0 * x)))))\n",
        "\n",
        "# Rango de x\n",
        "x = np.linspace(-10, 10, 800)\n"
      ],
      "metadata": {
        "id": "K5QSKBjjNRdC"
      },
      "execution_count": null,
      "outputs": []
    },
    {
      "cell_type": "code",
      "source": [
        "# ⬇️ 3) Sliders para todos los parámetros (β0..β3, ω0..ω3)\n",
        "slider_style = {'description_width': '40px'}\n",
        "slider_layout = Layout(width='320px')\n",
        "\n",
        "beta0 = FloatSlider(value=0.5, min=-6, max=6, step=0.01, description='β0', style=slider_style, layout=slider_layout)\n",
        "beta1 = FloatSlider(value=0.2, min=-3, max=3, step=0.01, description='β1', style=slider_style, layout=slider_layout)\n",
        "beta2 = FloatSlider(value=0.7, min=-6, max=6, step=0.01, description='β2', style=slider_style, layout=slider_layout)\n",
        "beta3 = FloatSlider(value=1.0, min=-5, max=5, step=0.01, description='β3', style=slider_style, layout=slider_layout)\n",
        "\n",
        "omega0 = FloatSlider(value=1.0, min=-4, max=4, step=0.01, description='ω0', style=slider_style, layout=slider_layout)\n",
        "omega1 = FloatSlider(value=0.5, min=-5, max=5, step=0.01, description='ω1', style=slider_style, layout=slider_layout)\n",
        "omega2 = FloatSlider(value=0.3, min=-2, max=2, step=0.01, description='ω2', style=slider_style, layout=slider_layout)\n",
        "omega3 = FloatSlider(value=0.8, min=-2, max=2, step=0.01, description='ω3', style=slider_style, layout=slider_layout)\n",
        "\n",
        "controls_col1 = VBox([beta0, beta1, beta2, beta3])\n",
        "controls_col2 = VBox([omega0, omega1, omega2, omega3])\n",
        "controls = HBox([controls_col1, controls_col2], layout=Layout(justify_content='space-between', gap='16px'))\n"
      ],
      "metadata": {
        "id": "UbwE8kQuNTTU"
      },
      "execution_count": null,
      "outputs": []
    },
    {
      "cell_type": "code",
      "source": [
        "# ⬇️ 4) Lógica de actualización y gráfico interactivo\n",
        "# Nota: en Colab no uses %matplotlib widget; actualizamos redibujando la figura.\n",
        "\n",
        "fig, ax = plt.subplots(figsize=(8, 4.5))\n",
        "plt.grid(True)\n",
        "\n",
        "def update(b0, b1, b2, b3, w0, w1, w2, w3):\n",
        "    y = f(x, b0, b1, b2, b3, w0, w1, w2, w3)\n",
        "    ax.clear()\n",
        "    ax.plot(x, y, label='f(x)')\n",
        "    ax.set_title('f(x) = β3 + ω3·cos(β2) + ω2·exp(β1) + ω1·sin[β0 + ω0·x]')\n",
        "    ax.set_xlabel('x')\n",
        "    ax.set_ylabel('f(x)')\n",
        "    ax.grid(True)\n",
        "    ax.legend(loc='upper right')\n",
        "    # Ajuste de límites Y con pequeño margen\n",
        "    ypad = 0.1 * (np.max(y) - np.min(y) if np.max(y) != np.min(y) else 1.0)\n",
        "    ax.set_ylim(np.min(y) - ypad, np.max(y) + ypad)\n",
        "    fig.canvas.draw()\n",
        "\n",
        "out = interactive_output(\n",
        "    update, {\n",
        "        'b0': beta0, 'b1': beta1, 'b2': beta2, 'b3': beta3,\n",
        "        'w0': omega0, 'w1': omega1, 'w2': omega2, 'w3': omega3\n",
        "    }\n",
        ")\n",
        "\n",
        "display(controls, out)\n"
      ],
      "metadata": {
        "colab": {
          "base_uri": "https://localhost:8080/",
          "height": 540,
          "referenced_widgets": [
            "c50cff7b1701448eb3a5cf837e17c931",
            "ed2d82870cf349b09bb8f523d9f1c088",
            "df8ae0c5149b4d3e8aec9bf751651423",
            "37e90b1eee62483b83e655c956507568",
            "5176110c76024bd4806261186346637c",
            "95680b096adf457e9d70a05c3fd5ff37",
            "b87d8138587a4e8f95ce88ba821104aa",
            "ee4ca5dbae95409d943833fcd950accb",
            "0e302419eb814c18a67ee732dfeefaa4",
            "200a1ad8e47a48bd88d6949e43b54366",
            "79075e54df1244c6a31a3f6f5833971c",
            "054525ebea9248ccaba1c30216d7601a",
            "d79aca16e2ef453c95ab6ddf975d82a7",
            "3adf3a9665744b9c808f313fc49ccb69",
            "cb5aefc576e64f298b0d01319c397eb9",
            "04d01479d0f04a4d8b6ed9748b9f2b85",
            "98fac134691045429ba1ef1f384a867d",
            "515f698c0d8f42d28469c01bcfcac175",
            "b6de6cb483d547fd939fa553e90548d3",
            "9e6da689290642d4a3752b946b607303",
            "2101906141dd4b2696cd0510977a3f3e",
            "f2dba8f189624e37aeaf4468da87df1c",
            "155df62839a0434fb473ad7cdeb0ed25",
            "ac551972eb8942a6bc1a0233508f61ea",
            "2b30a7c3373f4af691104b9552d56e12"
          ]
        },
        "id": "FPlGQNwvNVn0",
        "outputId": "ac52da3a-a73b-4c91-db22-67fafdce2dff"
      },
      "execution_count": null,
      "outputs": [
        {
          "output_type": "display_data",
          "data": {
            "text/plain": [
              "<Figure size 800x450 with 1 Axes>"
            ],
            "image/png": "[encoded data removed]"
          },
          "metadata": {}
        },
        {
          "output_type": "display_data",
          "data": {
            "text/plain": [
              "HBox(children=(VBox(children=(FloatSlider(value=0.5, description='β0', layout=Layout(width='320px'), max=6.0, …"
            ],
            "application/vnd.jupyter.widget-view+json": {
              "version_major": 2,
              "version_minor": 0,
              "model_id": "c50cff7b1701448eb3a5cf837e17c931"
            }
          },
          "metadata": {
            "application/vnd.jupyter.widget-view+json": {
              "colab": {
                "custom_widget_manager": {
                  "url": "https://ssl.gstatic.com/colaboratory-static/widgets/colab-cdn-widget-manager/2b70e893a8ba7c0f/manager.min.js"
                }
              }
            }
          }
        },
        {
          "output_type": "display_data",
          "data": {
            "text/plain": [
              "Output()"
            ],
            "application/vnd.jupyter.widget-view+json": {
              "version_major": 2,
              "version_minor": 0,
              "model_id": "ac551972eb8942a6bc1a0233508f61ea"
            }
          },
          "metadata": {
            "application/vnd.jupyter.widget-view+json": {
              "colab": {
                "custom_widget_manager": {
                  "url": "https://ssl.gstatic.com/colaboratory-static/widgets/colab-cdn-widget-manager/2b70e893a8ba7c0f/manager.min.js"
                }
              }
            }
          }
        }
      ]
    }
  ]
}