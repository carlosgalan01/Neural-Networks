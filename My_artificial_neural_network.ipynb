{
  "nbformat": 4,
  "nbformat_minor": 0,
  "metadata": {
    "colab": {
      "provenance": [],
      "include_colab_link": true
    },
    "kernelspec": {
      "name": "python3",
      "display_name": "Python 3"
    }
  },
  "cells": [
    {
      "cell_type": "markdown",
      "metadata": {
        "id": "view-in-github",
        "colab_type": "text"
      },
      "source": [
        "<a href=\"https://colab.research.google.com/github/carlosgalan01/Neural-Networks/blob/main/My_artificial_neural_network.ipynb\" target=\"_parent\"><img src=\"https://colab.research.google.com/assets/colab-badge.svg\" alt=\"Open In Colab\"/></a>"
      ]
    },
    {
      "cell_type": "markdown",
      "metadata": {
        "id": "lP6JLo1tGNBg"
      },
      "source": [
        "# Artificial Neural Network"
      ]
    },
    {
      "cell_type": "markdown",
      "metadata": {
        "id": "gWZyYmS_UE_L"
      },
      "source": [
        "### Importing the libraries"
      ]
    },
    {
      "cell_type": "code",
      "metadata": {
        "id": "MxkJoQBkUIHC"
      },
      "source": [
        "import numpy as np, pandas as pd, tensorflow as tf, json\n",
        "from sklearn.model_selection import train_test_split\n",
        "from sklearn.preprocessing import LabelEncoder, StandardScaler\n",
        "from sklearn.compose import ColumnTransformer\n",
        "from sklearn.preprocessing import OneHotEncoder\n",
        "from sklearn.metrics import confusion_matrix, accuracy_score, roc_auc_score"
      ],
      "execution_count": null,
      "outputs": []
    },
    {
      "cell_type": "code",
      "metadata": {
        "id": "ZaTwK7ojXr2F",
        "outputId": "ec17f6b1-3d47-47c8-dfb4-b744ce60d074",
        "colab": {
          "base_uri": "https://localhost:8080/"
        }
      },
      "source": [
        "print(\"TensorFlow:\", tf.__version__)"
      ],
      "execution_count": null,
      "outputs": [
        {
          "output_type": "stream",
          "name": "stdout",
          "text": [
            "TensorFlow: 2.19.0\n"
          ]
        }
      ]
    },
    {
      "cell_type": "code",
      "source": [
        "np.random.seed(42)\n",
        "tf.random.set_seed(42)"
      ],
      "metadata": {
        "id": "LwbUuY8mwf-J"
      },
      "execution_count": null,
      "outputs": []
    },
    {
      "cell_type": "markdown",
      "metadata": {
        "id": "1E0Q3aoKUCRX"
      },
      "source": [
        "## Part 1 - Data Preprocessing"
      ]
    },
    {
      "cell_type": "markdown",
      "metadata": {
        "id": "cKWAkFVGUU0Z"
      },
      "source": [
        "### Importing the dataset"
      ]
    },
    {
      "cell_type": "code",
      "metadata": {
        "id": "MXUkhkMfU4wq"
      },
      "source": [
        "dataset = pd.read_csv('Churn_Modelling.csv')\n",
        "X = dataset.iloc[:, 3:-1].values   # [CreditScore, Geography, Gender, Age, Tenure, Balance, NumOfProducts, HasCrCard, IsActiveMember, EstimatedSalary]\n",
        "y = dataset.iloc[:, -1].values"
      ],
      "execution_count": null,
      "outputs": []
    },
    {
      "cell_type": "code",
      "metadata": {
        "id": "VYP9cQTWbzuI",
        "outputId": "135118d5-b402-425d-9ffa-47e3aabae696",
        "colab": {
          "base_uri": "https://localhost:8080/"
        }
      },
      "source": [
        "print(X)"
      ],
      "execution_count": null,
      "outputs": [
        {
          "output_type": "stream",
          "name": "stdout",
          "text": [
            "[[619 'France' 'Female' ... 1 1 101348.88]\n",
            " [608 'Spain' 'Female' ... 0 1 112542.58]\n",
            " [502 'France' 'Female' ... 1 0 113931.57]\n",
            " ...\n",
            " [709 'France' 'Female' ... 0 1 42085.58]\n",
            " [772 'Germany' 'Male' ... 1 0 92888.52]\n",
            " [792 'France' 'Female' ... 1 0 38190.78]]\n"
          ]
        }
      ]
    },
    {
      "cell_type": "code",
      "metadata": {
        "id": "38vKGE6Nb2RR",
        "outputId": "c17ee956-2f9f-4fdb-ec02-c38e4581ea23",
        "colab": {
          "base_uri": "https://localhost:8080/"
        }
      },
      "source": [
        "print(y)"
      ],
      "execution_count": null,
      "outputs": [
        {
          "output_type": "stream",
          "name": "stdout",
          "text": [
            "[1 0 1 ... 1 1 0]\n"
          ]
        }
      ]
    },
    {
      "cell_type": "markdown",
      "metadata": {
        "id": "N6bQ0UgSU-NJ"
      },
      "source": [
        "### Encoding categorical data"
      ]
    },
    {
      "cell_type": "markdown",
      "metadata": {
        "id": "le5MJreAbW52"
      },
      "source": [
        "Label Encoding the \"Gender\" column"
      ]
    },
    {
      "cell_type": "code",
      "metadata": {
        "id": "PxVKWXxLbczC"
      },
      "source": [
        "from sklearn.preprocessing import LabelEncoder\n",
        "le = LabelEncoder()\n",
        "X[:, 2] = le.fit_transform(X[:, 2])"
      ],
      "execution_count": null,
      "outputs": []
    },
    {
      "cell_type": "code",
      "metadata": {
        "id": "-M1KboxFb6OO",
        "outputId": "80f34e56-b8fa-47ee-a1c5-5f9a9a7f2b7b",
        "colab": {
          "base_uri": "https://localhost:8080/"
        }
      },
      "source": [
        "print(X)"
      ],
      "execution_count": null,
      "outputs": [
        {
          "output_type": "stream",
          "name": "stdout",
          "text": [
            "[[619 'France' 0 ... 1 1 101348.88]\n",
            " [608 'Spain' 0 ... 0 1 112542.58]\n",
            " [502 'France' 0 ... 1 0 113931.57]\n",
            " ...\n",
            " [709 'France' 0 ... 0 1 42085.58]\n",
            " [772 'Germany' 1 ... 1 0 92888.52]\n",
            " [792 'France' 0 ... 1 0 38190.78]]\n"
          ]
        }
      ]
    },
    {
      "cell_type": "markdown",
      "metadata": {
        "id": "CUxGZezpbMcb"
      },
      "source": [
        "One Hot Encoding the \"Geography\" column"
      ]
    },
    {
      "cell_type": "code",
      "metadata": {
        "id": "AMXC8-KMVirw"
      },
      "source": [
        "from sklearn.compose import ColumnTransformer\n",
        "ct = ColumnTransformer(\n",
        "    transformers=[('encoder', OneHotEncoder(handle_unknown='ignore', sparse_output=False), [1])],\n",
        "    remainder='passthrough'\n",
        ")\n",
        "X = np.array(ct.fit_transform(X))"
      ],
      "execution_count": null,
      "outputs": []
    },
    {
      "cell_type": "code",
      "metadata": {
        "id": "ZcxwEon-b8nV",
        "outputId": "284f27bf-ff19-446a-e3ef-bdf4f921f0e2",
        "colab": {
          "base_uri": "https://localhost:8080/"
        }
      },
      "source": [
        "print(X)"
      ],
      "execution_count": null,
      "outputs": [
        {
          "output_type": "stream",
          "name": "stdout",
          "text": [
            "[[1.0 0.0 0.0 ... 1 1 101348.88]\n",
            " [0.0 0.0 1.0 ... 0 1 112542.58]\n",
            " [1.0 0.0 0.0 ... 1 0 113931.57]\n",
            " ...\n",
            " [1.0 0.0 0.0 ... 0 1 42085.58]\n",
            " [0.0 1.0 0.0 ... 1 0 92888.52]\n",
            " [1.0 0.0 0.0 ... 1 0 38190.78]]\n"
          ]
        }
      ]
    },
    {
      "cell_type": "markdown",
      "metadata": {
        "id": "vHol938cW8zd"
      },
      "source": [
        "### Splitting the dataset into the Training set and Test set"
      ]
    },
    {
      "cell_type": "code",
      "metadata": {
        "id": "Z-TDt0Y_XEfc"
      },
      "source": [
        "from sklearn.model_selection import train_test_split\n",
        "X_train, X_test, y_train, y_test = train_test_split(X, y, test_size = 0.2, random_state = 42, stratify = y)"
      ],
      "execution_count": null,
      "outputs": []
    },
    {
      "cell_type": "markdown",
      "metadata": {
        "id": "RE_FcHyfV3TQ"
      },
      "source": [
        "### Feature Scaling"
      ]
    },
    {
      "cell_type": "code",
      "metadata": {
        "id": "ViCrE00rV8Sk"
      },
      "source": [
        "from sklearn.preprocessing import StandardScaler\n",
        "sc = StandardScaler()\n",
        "X_train = sc.fit_transform(X_train)\n",
        "X_test = sc.transform(X_test)"
      ],
      "execution_count": null,
      "outputs": []
    },
    {
      "cell_type": "markdown",
      "metadata": {
        "id": "-zfEzkRVXIwF"
      },
      "source": [
        "## Part 2 - Building the ANN"
      ]
    },
    {
      "cell_type": "markdown",
      "metadata": {
        "id": "KvdeScabXtlB"
      },
      "source": [
        "### Initializing the ANN"
      ]
    },
    {
      "cell_type": "code",
      "source": [
        "ann = tf.keras.models.Sequential([\n",
        "    tf.keras.layers.Dense(16, activation='relu'),\n",
        "    tf.keras.layers.Dropout(0.2),\n",
        "    tf.keras.layers.Dense(8, activation='relu'),\n",
        "    tf.keras.layers.Dense(1, activation='sigmoid'),\n",
        "])"
      ],
      "metadata": {
        "id": "0V4L4bWr8R_s"
      },
      "execution_count": null,
      "outputs": []
    },
    {
      "cell_type": "code",
      "metadata": {
        "id": "3dtrScHxXQox"
      },
      "source": [
        "ann = tf.keras.models.Sequential()"
      ],
      "execution_count": null,
      "outputs": []
    },
    {
      "cell_type": "markdown",
      "metadata": {
        "id": "rP6urV6SX7kS"
      },
      "source": [
        "### Adding the input layer and the first hidden layer"
      ]
    },
    {
      "cell_type": "code",
      "metadata": {
        "id": "bppGycBXYCQr"
      },
      "source": [
        "ann.add(tf.keras.layers.Dense(units=6, activation='relu'))"
      ],
      "execution_count": null,
      "outputs": []
    },
    {
      "cell_type": "markdown",
      "metadata": {
        "id": "BELWAc_8YJze"
      },
      "source": [
        "### Adding the second hidden layer"
      ]
    },
    {
      "cell_type": "code",
      "metadata": {
        "id": "JneR0u0sYRTd"
      },
      "source": [
        "ann.add(tf.keras.layers.Dense(units=6, activation='relu'))"
      ],
      "execution_count": null,
      "outputs": []
    },
    {
      "cell_type": "markdown",
      "metadata": {
        "id": "OyNEe6RXYcU4"
      },
      "source": [
        "### Adding the output layer"
      ]
    },
    {
      "cell_type": "code",
      "metadata": {
        "id": "Cn3x41RBYfvY"
      },
      "source": [
        "ann.add(tf.keras.layers.Dense(units=1, activation='sigmoid'))"
      ],
      "execution_count": null,
      "outputs": []
    },
    {
      "cell_type": "markdown",
      "metadata": {
        "id": "JT4u2S1_Y4WG"
      },
      "source": [
        "## Part 3 - Training the ANN"
      ]
    },
    {
      "cell_type": "markdown",
      "metadata": {
        "id": "8GWlJChhY_ZI"
      },
      "source": [
        "### Compiling the ANN"
      ]
    },
    {
      "cell_type": "code",
      "metadata": {
        "id": "fG3RrwDXZEaS"
      },
      "source": [
        "ann.compile(optimizer='adam',\n",
        "            loss='binary_crossentropy',\n",
        "            metrics=['accuracy', tf.keras.metrics.AUC(name='auc')])"
      ],
      "execution_count": null,
      "outputs": []
    },
    {
      "cell_type": "code",
      "source": [
        "es = tf.keras.callbacks.EarlyStopping(monitor='val_loss', patience=8, restore_best_weights=True)"
      ],
      "metadata": {
        "id": "KT-wKJK18hdq"
      },
      "execution_count": null,
      "outputs": []
    },
    {
      "cell_type": "markdown",
      "metadata": {
        "id": "0QR_G5u7ZLSM"
      },
      "source": [
        "### Training the ANN on the Training set"
      ]
    },
    {
      "cell_type": "code",
      "metadata": {
        "id": "nHZ-LKv_ZRb3",
        "outputId": "6f0a83db-5061-428f-fa46-c93eb67fbb85",
        "colab": {
          "base_uri": "https://localhost:8080/"
        }
      },
      "source": [
        "history = ann.fit(X_train, y_train,\n",
        "                  batch_size=32,\n",
        "                  epochs=200,\n",
        "                  validation_split=0.2,   # 20% de X_train para val\n",
        "                  callbacks=[es],\n",
        "                  verbose=1)"
      ],
      "execution_count": null,
      "outputs": [
        {
          "output_type": "stream",
          "name": "stdout",
          "text": [
            "Epoch 1/200\n",
            "\u001b[1m200/200\u001b[0m \u001b[32m━━━━━━━━━━━━━━━━━━━━\u001b[0m\u001b[37m\u001b[0m \u001b[1m3s\u001b[0m 5ms/step - accuracy: 0.6382 - auc: 0.5554 - loss: 0.6361 - val_accuracy: 0.8050 - val_auc: 0.6990 - val_loss: 0.4633\n",
            "Epoch 2/200\n",
            "\u001b[1m200/200\u001b[0m \u001b[32m━━━━━━━━━━━━━━━━━━━━\u001b[0m\u001b[37m\u001b[0m \u001b[1m1s\u001b[0m 3ms/step - accuracy: 0.7974 - auc: 0.6938 - loss: 0.4743 - val_accuracy: 0.8244 - val_auc: 0.7454 - val_loss: 0.4325\n",
            "Epoch 3/200\n",
            "\u001b[1m200/200\u001b[0m \u001b[32m━━━━━━━━━━━━━━━━━━━━\u001b[0m\u001b[37m\u001b[0m \u001b[1m1s\u001b[0m 3ms/step - accuracy: 0.8090 - auc: 0.7382 - loss: 0.4517 - val_accuracy: 0.8313 - val_auc: 0.7600 - val_loss: 0.4222\n",
            "Epoch 4/200\n",
            "\u001b[1m200/200\u001b[0m \u001b[32m━━━━━━━━━━━━━━━━━━━━\u001b[0m\u001b[37m\u001b[0m \u001b[1m1s\u001b[0m 3ms/step - accuracy: 0.8139 - auc: 0.7497 - loss: 0.4440 - val_accuracy: 0.8325 - val_auc: 0.7698 - val_loss: 0.4161\n",
            "Epoch 5/200\n",
            "\u001b[1m200/200\u001b[0m \u001b[32m━━━━━━━━━━━━━━━━━━━━\u001b[0m\u001b[37m\u001b[0m \u001b[1m1s\u001b[0m 3ms/step - accuracy: 0.8134 - auc: 0.7630 - loss: 0.4346 - val_accuracy: 0.8413 - val_auc: 0.7770 - val_loss: 0.4103\n",
            "Epoch 6/200\n",
            "\u001b[1m200/200\u001b[0m \u001b[32m━━━━━━━━━━━━━━━━━━━━\u001b[0m\u001b[37m\u001b[0m \u001b[1m1s\u001b[0m 3ms/step - accuracy: 0.8145 - auc: 0.7660 - loss: 0.4326 - val_accuracy: 0.8438 - val_auc: 0.7853 - val_loss: 0.4049\n",
            "Epoch 7/200\n",
            "\u001b[1m200/200\u001b[0m \u001b[32m━━━━━━━━━━━━━━━━━━━━\u001b[0m\u001b[37m\u001b[0m \u001b[1m1s\u001b[0m 3ms/step - accuracy: 0.8217 - auc: 0.7840 - loss: 0.4214 - val_accuracy: 0.8431 - val_auc: 0.7917 - val_loss: 0.3984\n",
            "Epoch 8/200\n",
            "\u001b[1m200/200\u001b[0m \u001b[32m━━━━━━━━━━━━━━━━━━━━\u001b[0m\u001b[37m\u001b[0m \u001b[1m1s\u001b[0m 3ms/step - accuracy: 0.8232 - auc: 0.7886 - loss: 0.4163 - val_accuracy: 0.8469 - val_auc: 0.7999 - val_loss: 0.3924\n",
            "Epoch 9/200\n",
            "\u001b[1m200/200\u001b[0m \u001b[32m━━━━━━━━━━━━━━━━━━━━\u001b[0m\u001b[37m\u001b[0m \u001b[1m1s\u001b[0m 3ms/step - accuracy: 0.8334 - auc: 0.7952 - loss: 0.4094 - val_accuracy: 0.8506 - val_auc: 0.8078 - val_loss: 0.3852\n",
            "Epoch 10/200\n",
            "\u001b[1m200/200\u001b[0m \u001b[32m━━━━━━━━━━━━━━━━━━━━\u001b[0m\u001b[37m\u001b[0m \u001b[1m1s\u001b[0m 3ms/step - accuracy: 0.8269 - auc: 0.7970 - loss: 0.4078 - val_accuracy: 0.8537 - val_auc: 0.8168 - val_loss: 0.3787\n",
            "Epoch 11/200\n",
            "\u001b[1m200/200\u001b[0m \u001b[32m━━━━━━━━━━━━━━━━━━━━\u001b[0m\u001b[37m\u001b[0m \u001b[1m1s\u001b[0m 4ms/step - accuracy: 0.8370 - auc: 0.8086 - loss: 0.3990 - val_accuracy: 0.8569 - val_auc: 0.8249 - val_loss: 0.3709\n",
            "Epoch 12/200\n",
            "\u001b[1m200/200\u001b[0m \u001b[32m━━━━━━━━━━━━━━━━━━━━\u001b[0m\u001b[37m\u001b[0m \u001b[1m1s\u001b[0m 6ms/step - accuracy: 0.8307 - auc: 0.8090 - loss: 0.3975 - val_accuracy: 0.8600 - val_auc: 0.8312 - val_loss: 0.3647\n",
            "Epoch 13/200\n",
            "\u001b[1m200/200\u001b[0m \u001b[32m━━━━━━━━━━━━━━━━━━━━\u001b[0m\u001b[37m\u001b[0m \u001b[1m1s\u001b[0m 4ms/step - accuracy: 0.8426 - auc: 0.8199 - loss: 0.3875 - val_accuracy: 0.8625 - val_auc: 0.8385 - val_loss: 0.3583\n",
            "Epoch 14/200\n",
            "\u001b[1m200/200\u001b[0m \u001b[32m━━━━━━━━━━━━━━━━━━━━\u001b[0m\u001b[37m\u001b[0m \u001b[1m1s\u001b[0m 3ms/step - accuracy: 0.8417 - auc: 0.8204 - loss: 0.3845 - val_accuracy: 0.8644 - val_auc: 0.8457 - val_loss: 0.3521\n",
            "Epoch 15/200\n",
            "\u001b[1m200/200\u001b[0m \u001b[32m━━━━━━━━━━━━━━━━━━━━\u001b[0m\u001b[37m\u001b[0m \u001b[1m1s\u001b[0m 3ms/step - accuracy: 0.8384 - auc: 0.8201 - loss: 0.3863 - val_accuracy: 0.8687 - val_auc: 0.8488 - val_loss: 0.3478\n",
            "Epoch 16/200\n",
            "\u001b[1m200/200\u001b[0m \u001b[32m━━━━━━━━━━━━━━━━━━━━\u001b[0m\u001b[37m\u001b[0m \u001b[1m1s\u001b[0m 3ms/step - accuracy: 0.8378 - auc: 0.8284 - loss: 0.3816 - val_accuracy: 0.8706 - val_auc: 0.8526 - val_loss: 0.3455\n",
            "Epoch 17/200\n",
            "\u001b[1m200/200\u001b[0m \u001b[32m━━━━━━━━━━━━━━━━━━━━\u001b[0m\u001b[37m\u001b[0m \u001b[1m1s\u001b[0m 3ms/step - accuracy: 0.8394 - auc: 0.8334 - loss: 0.3760 - val_accuracy: 0.8675 - val_auc: 0.8543 - val_loss: 0.3429\n",
            "Epoch 18/200\n",
            "\u001b[1m200/200\u001b[0m \u001b[32m━━━━━━━━━━━━━━━━━━━━\u001b[0m\u001b[37m\u001b[0m \u001b[1m1s\u001b[0m 3ms/step - accuracy: 0.8449 - auc: 0.8367 - loss: 0.3721 - val_accuracy: 0.8700 - val_auc: 0.8572 - val_loss: 0.3394\n",
            "Epoch 19/200\n",
            "\u001b[1m200/200\u001b[0m \u001b[32m━━━━━━━━━━━━━━━━━━━━\u001b[0m\u001b[37m\u001b[0m \u001b[1m1s\u001b[0m 3ms/step - accuracy: 0.8398 - auc: 0.8332 - loss: 0.3760 - val_accuracy: 0.8731 - val_auc: 0.8590 - val_loss: 0.3365\n",
            "Epoch 20/200\n",
            "\u001b[1m200/200\u001b[0m \u001b[32m━━━━━━━━━━━━━━━━━━━━\u001b[0m\u001b[37m\u001b[0m \u001b[1m1s\u001b[0m 3ms/step - accuracy: 0.8476 - auc: 0.8420 - loss: 0.3682 - val_accuracy: 0.8750 - val_auc: 0.8607 - val_loss: 0.3339\n",
            "Epoch 21/200\n",
            "\u001b[1m200/200\u001b[0m \u001b[32m━━━━━━━━━━━━━━━━━━━━\u001b[0m\u001b[37m\u001b[0m \u001b[1m1s\u001b[0m 3ms/step - accuracy: 0.8443 - auc: 0.8470 - loss: 0.3640 - val_accuracy: 0.8750 - val_auc: 0.8625 - val_loss: 0.3332\n",
            "Epoch 22/200\n",
            "\u001b[1m200/200\u001b[0m \u001b[32m━━━━━━━━━━━━━━━━━━━━\u001b[0m\u001b[37m\u001b[0m \u001b[1m1s\u001b[0m 3ms/step - accuracy: 0.8459 - auc: 0.8396 - loss: 0.3710 - val_accuracy: 0.8737 - val_auc: 0.8625 - val_loss: 0.3323\n",
            "Epoch 23/200\n",
            "\u001b[1m200/200\u001b[0m \u001b[32m━━━━━━━━━━━━━━━━━━━━\u001b[0m\u001b[37m\u001b[0m \u001b[1m1s\u001b[0m 3ms/step - accuracy: 0.8416 - auc: 0.8378 - loss: 0.3738 - val_accuracy: 0.8781 - val_auc: 0.8636 - val_loss: 0.3318\n",
            "Epoch 24/200\n",
            "\u001b[1m200/200\u001b[0m \u001b[32m━━━━━━━━━━━━━━━━━━━━\u001b[0m\u001b[37m\u001b[0m \u001b[1m1s\u001b[0m 3ms/step - accuracy: 0.8465 - auc: 0.8455 - loss: 0.3621 - val_accuracy: 0.8756 - val_auc: 0.8650 - val_loss: 0.3303\n",
            "Epoch 25/200\n",
            "\u001b[1m200/200\u001b[0m \u001b[32m━━━━━━━━━━━━━━━━━━━━\u001b[0m\u001b[37m\u001b[0m \u001b[1m1s\u001b[0m 3ms/step - accuracy: 0.8484 - auc: 0.8446 - loss: 0.3627 - val_accuracy: 0.8775 - val_auc: 0.8651 - val_loss: 0.3293\n",
            "Epoch 26/200\n",
            "\u001b[1m200/200\u001b[0m \u001b[32m━━━━━━━━━━━━━━━━━━━━\u001b[0m\u001b[37m\u001b[0m \u001b[1m1s\u001b[0m 3ms/step - accuracy: 0.8475 - auc: 0.8490 - loss: 0.3608 - val_accuracy: 0.8800 - val_auc: 0.8656 - val_loss: 0.3286\n",
            "Epoch 27/200\n",
            "\u001b[1m200/200\u001b[0m \u001b[32m━━━━━━━━━━━━━━━━━━━━\u001b[0m\u001b[37m\u001b[0m \u001b[1m1s\u001b[0m 7ms/step - accuracy: 0.8458 - auc: 0.8445 - loss: 0.3644 - val_accuracy: 0.8781 - val_auc: 0.8652 - val_loss: 0.3286\n",
            "Epoch 28/200\n",
            "\u001b[1m200/200\u001b[0m \u001b[32m━━━━━━━━━━━━━━━━━━━━\u001b[0m\u001b[37m\u001b[0m \u001b[1m2s\u001b[0m 5ms/step - accuracy: 0.8462 - auc: 0.8475 - loss: 0.3638 - val_accuracy: 0.8781 - val_auc: 0.8655 - val_loss: 0.3284\n",
            "Epoch 29/200\n",
            "\u001b[1m200/200\u001b[0m \u001b[32m━━━━━━━━━━━━━━━━━━━━\u001b[0m\u001b[37m\u001b[0m \u001b[1m1s\u001b[0m 3ms/step - accuracy: 0.8483 - auc: 0.8487 - loss: 0.3616 - val_accuracy: 0.8813 - val_auc: 0.8663 - val_loss: 0.3279\n",
            "Epoch 30/200\n",
            "\u001b[1m200/200\u001b[0m \u001b[32m━━━━━━━━━━━━━━━━━━━━\u001b[0m\u001b[37m\u001b[0m \u001b[1m1s\u001b[0m 3ms/step - accuracy: 0.8442 - auc: 0.8490 - loss: 0.3637 - val_accuracy: 0.8806 - val_auc: 0.8665 - val_loss: 0.3276\n",
            "Epoch 31/200\n",
            "\u001b[1m200/200\u001b[0m \u001b[32m━━━━━━━━━━━━━━━━━━━━\u001b[0m\u001b[37m\u001b[0m \u001b[1m1s\u001b[0m 3ms/step - accuracy: 0.8478 - auc: 0.8531 - loss: 0.3605 - val_accuracy: 0.8806 - val_auc: 0.8660 - val_loss: 0.3277\n",
            "Epoch 32/200\n",
            "\u001b[1m200/200\u001b[0m \u001b[32m━━━━━━━━━━━━━━━━━━━━\u001b[0m\u001b[37m\u001b[0m \u001b[1m1s\u001b[0m 3ms/step - accuracy: 0.8451 - auc: 0.8538 - loss: 0.3575 - val_accuracy: 0.8806 - val_auc: 0.8662 - val_loss: 0.3271\n",
            "Epoch 33/200\n",
            "\u001b[1m200/200\u001b[0m \u001b[32m━━━━━━━━━━━━━━━━━━━━\u001b[0m\u001b[37m\u001b[0m \u001b[1m1s\u001b[0m 3ms/step - accuracy: 0.8402 - auc: 0.8524 - loss: 0.3614 - val_accuracy: 0.8769 - val_auc: 0.8665 - val_loss: 0.3271\n",
            "Epoch 34/200\n",
            "\u001b[1m200/200\u001b[0m \u001b[32m━━━━━━━━━━━━━━━━━━━━\u001b[0m\u001b[37m\u001b[0m \u001b[1m1s\u001b[0m 3ms/step - accuracy: 0.8476 - auc: 0.8521 - loss: 0.3578 - val_accuracy: 0.8794 - val_auc: 0.8671 - val_loss: 0.3261\n",
            "Epoch 35/200\n",
            "\u001b[1m200/200\u001b[0m \u001b[32m━━━━━━━━━━━━━━━━━━━━\u001b[0m\u001b[37m\u001b[0m \u001b[1m1s\u001b[0m 3ms/step - accuracy: 0.8505 - auc: 0.8547 - loss: 0.3541 - val_accuracy: 0.8775 - val_auc: 0.8672 - val_loss: 0.3265\n",
            "Epoch 36/200\n",
            "\u001b[1m200/200\u001b[0m \u001b[32m━━━━━━━━━━━━━━━━━━━━\u001b[0m\u001b[37m\u001b[0m \u001b[1m1s\u001b[0m 3ms/step - accuracy: 0.8432 - auc: 0.8553 - loss: 0.3548 - val_accuracy: 0.8794 - val_auc: 0.8661 - val_loss: 0.3266\n",
            "Epoch 37/200\n",
            "\u001b[1m200/200\u001b[0m \u001b[32m━━━━━━━━━━━━━━━━━━━━\u001b[0m\u001b[37m\u001b[0m \u001b[1m1s\u001b[0m 3ms/step - accuracy: 0.8473 - auc: 0.8517 - loss: 0.3592 - val_accuracy: 0.8806 - val_auc: 0.8668 - val_loss: 0.3258\n",
            "Epoch 38/200\n",
            "\u001b[1m200/200\u001b[0m \u001b[32m━━━━━━━━━━━━━━━━━━━━\u001b[0m\u001b[37m\u001b[0m \u001b[1m1s\u001b[0m 3ms/step - accuracy: 0.8468 - auc: 0.8523 - loss: 0.3583 - val_accuracy: 0.8800 - val_auc: 0.8665 - val_loss: 0.3264\n",
            "Epoch 39/200\n",
            "\u001b[1m200/200\u001b[0m \u001b[32m━━━━━━━━━━━━━━━━━━━━\u001b[0m\u001b[37m\u001b[0m \u001b[1m1s\u001b[0m 3ms/step - accuracy: 0.8524 - auc: 0.8636 - loss: 0.3479 - val_accuracy: 0.8813 - val_auc: 0.8657 - val_loss: 0.3268\n",
            "Epoch 40/200\n",
            "\u001b[1m200/200\u001b[0m \u001b[32m━━━━━━━━━━━━━━━━━━━━\u001b[0m\u001b[37m\u001b[0m \u001b[1m1s\u001b[0m 3ms/step - accuracy: 0.8467 - auc: 0.8516 - loss: 0.3567 - val_accuracy: 0.8800 - val_auc: 0.8664 - val_loss: 0.3263\n",
            "Epoch 41/200\n",
            "\u001b[1m200/200\u001b[0m \u001b[32m━━━━━━━━━━━━━━━━━━━━\u001b[0m\u001b[37m\u001b[0m \u001b[1m1s\u001b[0m 3ms/step - accuracy: 0.8465 - auc: 0.8556 - loss: 0.3567 - val_accuracy: 0.8800 - val_auc: 0.8667 - val_loss: 0.3257\n",
            "Epoch 42/200\n",
            "\u001b[1m200/200\u001b[0m \u001b[32m━━━━━━━━━━━━━━━━━━━━\u001b[0m\u001b[37m\u001b[0m \u001b[1m1s\u001b[0m 3ms/step - accuracy: 0.8464 - auc: 0.8513 - loss: 0.3610 - val_accuracy: 0.8806 - val_auc: 0.8661 - val_loss: 0.3266\n",
            "Epoch 43/200\n",
            "\u001b[1m200/200\u001b[0m \u001b[32m━━━━━━━━━━━━━━━━━━━━\u001b[0m\u001b[37m\u001b[0m \u001b[1m1s\u001b[0m 5ms/step - accuracy: 0.8496 - auc: 0.8600 - loss: 0.3504 - val_accuracy: 0.8819 - val_auc: 0.8669 - val_loss: 0.3264\n",
            "Epoch 44/200\n",
            "\u001b[1m200/200\u001b[0m \u001b[32m━━━━━━━━━━━━━━━━━━━━\u001b[0m\u001b[37m\u001b[0m \u001b[1m1s\u001b[0m 6ms/step - accuracy: 0.8460 - auc: 0.8555 - loss: 0.3579 - val_accuracy: 0.8750 - val_auc: 0.8669 - val_loss: 0.3272\n",
            "Epoch 45/200\n",
            "\u001b[1m200/200\u001b[0m \u001b[32m━━━━━━━━━━━━━━━━━━━━\u001b[0m\u001b[37m\u001b[0m \u001b[1m1s\u001b[0m 3ms/step - accuracy: 0.8529 - auc: 0.8550 - loss: 0.3539 - val_accuracy: 0.8756 - val_auc: 0.8655 - val_loss: 0.3284\n",
            "Epoch 46/200\n",
            "\u001b[1m200/200\u001b[0m \u001b[32m━━━━━━━━━━━━━━━━━━━━\u001b[0m\u001b[37m\u001b[0m \u001b[1m1s\u001b[0m 3ms/step - accuracy: 0.8478 - auc: 0.8592 - loss: 0.3513 - val_accuracy: 0.8788 - val_auc: 0.8653 - val_loss: 0.3276\n",
            "Epoch 47/200\n",
            "\u001b[1m200/200\u001b[0m \u001b[32m━━━━━━━━━━━━━━━━━━━━\u001b[0m\u001b[37m\u001b[0m \u001b[1m1s\u001b[0m 3ms/step - accuracy: 0.8512 - auc: 0.8534 - loss: 0.3559 - val_accuracy: 0.8763 - val_auc: 0.8650 - val_loss: 0.3280\n",
            "Epoch 48/200\n",
            "\u001b[1m200/200\u001b[0m \u001b[32m━━━━━━━━━━━━━━━━━━━━\u001b[0m\u001b[37m\u001b[0m \u001b[1m1s\u001b[0m 3ms/step - accuracy: 0.8518 - auc: 0.8515 - loss: 0.3571 - val_accuracy: 0.8775 - val_auc: 0.8645 - val_loss: 0.3287\n",
            "Epoch 49/200\n",
            "\u001b[1m200/200\u001b[0m \u001b[32m━━━━━━━━━━━━━━━━━━━━\u001b[0m\u001b[37m\u001b[0m \u001b[1m1s\u001b[0m 3ms/step - accuracy: 0.8494 - auc: 0.8603 - loss: 0.3513 - val_accuracy: 0.8750 - val_auc: 0.8642 - val_loss: 0.3292\n"
          ]
        }
      ]
    },
    {
      "cell_type": "code",
      "source": [
        "import matplotlib.pyplot as plt\n",
        "\n",
        "hist = history.history"
      ],
      "metadata": {
        "id": "fIlj-wm0_HsW"
      },
      "execution_count": null,
      "outputs": []
    },
    {
      "cell_type": "code",
      "source": [
        "best_epoch = int(np.argmin(hist[\"val_loss\"]))\n",
        "print(f\"Mejor época (mínima val_loss): {best_epoch}\")\n",
        "\n",
        "# Resumen en la mejor época\n",
        "def safe_get(key, epoch):\n",
        "    return hist[key][epoch] if key in hist else None\n",
        "\n",
        "summary = {\n",
        "    \"loss\": safe_get(\"loss\", best_epoch),\n",
        "    \"val_loss\": safe_get(\"val_loss\", best_epoch),\n",
        "    \"accuracy\": safe_get(\"accuracy\", best_epoch),\n",
        "    \"val_accuracy\": safe_get(\"val_accuracy\", best_epoch),\n",
        "    \"auc\": safe_get(\"auc\", best_epoch),\n",
        "    \"val_auc\": safe_get(\"val_auc\", best_epoch),\n",
        "}\n",
        "print(\"Métricas en la mejor época:\", {k: (None if v is None else round(float(v), 4)) for k, v in summary.items()})\n"
      ],
      "metadata": {
        "colab": {
          "base_uri": "https://localhost:8080/"
        },
        "id": "jvkB7wij_TNC",
        "outputId": "6e378cfe-4acc-45d7-a73a-6ba7f4a20420"
      },
      "execution_count": null,
      "outputs": [
        {
          "output_type": "stream",
          "name": "stdout",
          "text": [
            "Mejor época (mínima val_loss): 40\n",
            "Métricas en la mejor época: {'loss': 0.3524, 'val_loss': 0.3257, 'accuracy': 0.8516, 'val_accuracy': 0.88, 'auc': 0.853, 'val_auc': 0.8667}\n"
          ]
        }
      ]
    },
    {
      "cell_type": "code",
      "source": [
        "test_loss, test_acc, test_auc = ann.evaluate(X_test, y_test, verbose=0)\n",
        "print(f\"TEST -> loss: {test_loss:.3f} | acc: {test_acc:.3f} | auc: {test_auc:.3f}\")"
      ],
      "metadata": {
        "colab": {
          "base_uri": "https://localhost:8080/"
        },
        "id": "ITI1MQc7CI2V",
        "outputId": "13073fb1-d273-4060-94f1-cd0f0a95ac51"
      },
      "execution_count": null,
      "outputs": [
        {
          "output_type": "stream",
          "name": "stdout",
          "text": [
            "TEST -> loss: 0.339 | acc: 0.859 | auc: 0.861\n"
          ]
        }
      ]
    },
    {
      "cell_type": "code",
      "source": [
        "for m in [\"loss\", \"accuracy\", \"auc\"]:\n",
        "    if m in hist and (\"val_\"+m) in hist:\n",
        "        plt.figure()\n",
        "        plt.plot(hist[m], label=f\"train_{m}\")\n",
        "        plt.plot(hist[\"val_\"+m], label=f\"val_{m}\")\n",
        "        # Línea vertical en la mejor época (mínima val_loss)\n",
        "        plt.axvline(best_epoch, ls=\"--\", label=\"best epoch\")\n",
        "        # Línea horizontal con el valor de test\n",
        "        test_value = {\"loss\": test_loss, \"accuracy\": test_acc, \"auc\": test_auc}[m]\n",
        "        plt.hlines(test_value, xmin=0, xmax=len(history.history[m])-1, linestyles=\":\", label=f\"test_{m}={test_value:.3f}\")\n",
        "        plt.title(m)\n",
        "        plt.xlabel(\"Epoch\")\n",
        "        plt.ylabel(m)\n",
        "        plt.grid(True)\n",
        "        plt.legend()\n",
        "        plt.show()"
      ],
      "metadata": {
        "colab": {
          "base_uri": "https://localhost:8080/",
          "height": 1000
        },
        "id": "P6dsOnp5DFYc",
        "outputId": "94916314-e97a-4a89-dce3-df4a4c641048"
      },
      "execution_count": null,
      "outputs": [
        {
          "output_type": "display_data",
          "data": {
            "text/plain": [
              "<Figure size 640x480 with 1 Axes>"
            ],
            "image/png": "[encoded data removed]"
          },
          "metadata": {}
        },
        {
          "output_type": "display_data",
          "data": {
            "text/plain": [
              "<Figure size 640x480 with 1 Axes>"
            ],
            "image/png": "[encoded data removed]"
          },
          "metadata": {}
        },
        {
          "output_type": "display_data",
          "data": {
            "text/plain": [
              "<Figure size 640x480 with 1 Axes>"
            ],
            "image/png": "[encoded data removed]"
          },
          "metadata": {}
        }
      ]
    },
    {
      "cell_type": "code",
      "source": [
        "ann.save('model.keras')\n",
        "with open('historial_entrenamiento.json', 'w') as f:\n",
        "    json.dump({k: [float(v) for v in vals] for k, vals in history.history.items()}, f, indent=2)"
      ],
      "metadata": {
        "id": "GmGuPEpV8w3d"
      },
      "execution_count": null,
      "outputs": []
    },
    {
      "cell_type": "markdown",
      "metadata": {
        "id": "tJj5k2MxZga3"
      },
      "source": [
        "## Part 4 - Making the predictions and evaluating the model"
      ]
    },
    {
      "cell_type": "markdown",
      "metadata": {
        "id": "84QFoqGYeXHL"
      },
      "source": [
        "### Predicting the result of a single observation"
      ]
    },
    {
      "cell_type": "markdown",
      "metadata": {
        "id": "CGRo3eacgDdC"
      },
      "source": [
        "**Homework**\n",
        "\n",
        "Use our ANN model to predict if the customer with the following informations will leave the bank:\n",
        "\n",
        "Geography: France\n",
        "\n",
        "Credit Score: 600\n",
        "\n",
        "Gender: Male\n",
        "\n",
        "Age: 40 years old\n",
        "\n",
        "Tenure: 3 years\n",
        "\n",
        "Balance: \\$ 60000\n",
        "\n",
        "Number of Products: 2\n",
        "\n",
        "Does this customer have a credit card? Yes\n",
        "\n",
        "Is this customer an Active Member: Yes\n",
        "\n",
        "Estimated Salary: \\$ 50000\n",
        "\n",
        "So, should we say goodbye to that customer?"
      ]
    },
    {
      "cell_type": "markdown",
      "metadata": {
        "id": "ZhU1LTgPg-kH"
      },
      "source": [
        "**Solution**"
      ]
    },
    {
      "cell_type": "code",
      "source": [
        "import numpy as np\n",
        "\n",
        "def predict_single(geography, credit_score, gender, age, tenure, balance, n_products, has_card, is_active, salary):\n",
        "    # orden exacto de columnas originales (X antes de ct): CreditScore, Geography, Gender, Age, Tenure, Balance, NumOfProducts, HasCrCard, IsActiveMember, EstimatedSalary\n",
        "    row = np.array([[credit_score, geography, gender, age, tenure, balance, n_products, has_card, is_active, salary]], dtype=object)\n",
        "    # mismo LabelEncoder para género\n",
        "    row[:, 2] = le.transform(row[:, 2])\n",
        "    # mismo OneHot para geografía\n",
        "    row = ct.transform(row)\n",
        "    # mismo escalado\n",
        "    row = sc.transform(row)\n",
        "    # predicción\n",
        "    p = float(ann.predict(row)[0][0])\n",
        "    return p, int(p > 0.5)\n",
        "\n",
        "p, c = predict_single(\"France\", 600, \"Male\", 40, 3, 60000.0, 2, 1, 1, 50000.0)\n",
        "print(f\"Probabilidad clase 1: {p:.4f} | Predicción (0/1): {c}\")"
      ],
      "metadata": {
        "colab": {
          "base_uri": "https://localhost:8080/"
        },
        "id": "w6S4r6mT9BkT",
        "outputId": "401eaad2-3010-4b8c-f25f-902f8d185c4f"
      },
      "execution_count": null,
      "outputs": [
        {
          "output_type": "stream",
          "name": "stdout",
          "text": [
            "\u001b[1m1/1\u001b[0m \u001b[32m━━━━━━━━━━━━━━━━━━━━\u001b[0m\u001b[37m\u001b[0m \u001b[1m0s\u001b[0m 80ms/step\n",
            "Probabilidad clase 1: 0.0433 | Predicción (0/1): 0\n"
          ]
        }
      ]
    },
    {
      "cell_type": "markdown",
      "metadata": {
        "id": "wGjx94g2n7OV"
      },
      "source": [
        "Therefore, our ANN model predicts that this customer stays in the bank!\n",
        "\n",
        "**Important note 1:** Notice that the values of the features were all input in a double pair of square brackets. That's because the \"predict\" method always expects a 2D array as the format of its inputs. And putting our values into a double pair of square brackets makes the input exactly a 2D array.\n",
        "\n",
        "**Important note 2:** Notice also that the \"France\" country was not input as a string in the last column but as \"1, 0, 0\" in the first three columns. That's because of course the predict method expects the one-hot-encoded values of the state, and as we see in the first row of the matrix of features X, \"France\" was encoded as \"1, 0, 0\". And be careful to include these values in the first three columns, because the dummy variables are always created in the first columns."
      ]
    },
    {
      "cell_type": "markdown",
      "metadata": {
        "id": "u7yx47jPZt11"
      },
      "source": [
        "### Predicting the Test set results"
      ]
    },
    {
      "cell_type": "code",
      "source": [
        "y_proba = ann.predict(X_test)\n",
        "y_pred  = (y_proba > 0.5).astype(int)\n",
        "\n",
        "cm   = confusion_matrix(y_test, y_pred)\n",
        "acc  = accuracy_score(y_test, y_pred)\n",
        "auc  = roc_auc_score(y_test, y_proba)\n",
        "\n",
        "print(\"Confusion matrix:\\n\", cm)\n",
        "print(f\"Accuracy: {acc:.3f} | ROC-AUC: {auc:.3f}\")\n"
      ],
      "metadata": {
        "colab": {
          "base_uri": "https://localhost:8080/"
        },
        "id": "OMuCKp6B86Kn",
        "outputId": "0c004f8a-f5e5-43c7-b3ad-180e7601709b"
      },
      "execution_count": null,
      "outputs": [
        {
          "output_type": "stream",
          "name": "stdout",
          "text": [
            "\u001b[1m63/63\u001b[0m \u001b[32m━━━━━━━━━━━━━━━━━━━━\u001b[0m\u001b[37m\u001b[0m \u001b[1m0s\u001b[0m 1ms/step\n",
            "Confusion matrix:\n",
            " [[1547   46]\n",
            " [ 235  172]]\n",
            "Accuracy: 0.860 | ROC-AUC: 0.861\n"
          ]
        }
      ]
    },
    {
      "cell_type": "markdown",
      "metadata": {
        "id": "o0oyfLWoaEGw"
      },
      "source": [
        "### Making the Confusion Matrix"
      ]
    },
    {
      "cell_type": "code",
      "metadata": {
        "id": "ci6K_r6LaF6P",
        "outputId": "61809801-b4c8-4715-dc02-88dc20e89bef",
        "colab": {
          "base_uri": "https://localhost:8080/"
        }
      },
      "source": [
        "from sklearn.metrics import confusion_matrix, accuracy_score\n",
        "cm = confusion_matrix(y_test, y_pred)\n",
        "print(cm)\n",
        "accuracy_score(y_test, y_pred)"
      ],
      "execution_count": null,
      "outputs": [
        {
          "output_type": "stream",
          "name": "stdout",
          "text": [
            "[[1510   85]\n",
            " [ 191  214]]\n"
          ]
        },
        {
          "output_type": "execute_result",
          "data": {
            "text/plain": [
              "0.862"
            ]
          },
          "metadata": {},
          "execution_count": 38
        }
      ]
    }
  ]
}